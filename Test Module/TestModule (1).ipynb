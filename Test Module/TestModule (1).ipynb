{
  "nbformat": 4,
  "nbformat_minor": 0,
  "metadata": {
    "colab": {
      "name": "TestModule.ipynb",
      "version": "0.3.2",
      "views": {},
      "default_view": {},
      "provenance": [],
      "collapsed_sections": []
    },
    "kernelspec": {
      "name": "python2",
      "display_name": "Python 2"
    },
    "accelerator": "GPU"
  },
  "cells": [
    {
      "metadata": {
        "id": "yk5qrFQ46kWm",
        "colab_type": "code",
        "colab": {
          "autoexec": {
            "startup": false,
            "wait_interval": 0
          },
          "base_uri": "https://localhost:8080/",
          "height": 1364
        },
        "outputId": "0687a150-71dd-4365-ec2a-4df043b41ddd",
        "executionInfo": {
          "status": "ok",
          "timestamp": 1523102360701,
          "user_tz": -330,
          "elapsed": 57298,
          "user": {
            "displayName": "Anish Mahishi",
            "photoUrl": "https://lh3.googleusercontent.com/a/default-user=s128",
            "userId": "113634491023552308422"
          }
        }
      },
      "cell_type": "code",
      "source": [
        "!pip install -U -q PyDrive\n",
        "!apt-get install libopenblas-dev \n",
        "\n",
        "!conda create --name lightnet python=3  --yes\n",
        "!source activate lightnet \n",
        "!pip install pathlib\n",
        "!pip install numpy\n",
        "!pip install plac\n",
        "!pip install requests\n",
        "!pip install msgpack-python\n",
        "!pip install lightnet"
      ],
      "execution_count": 1,
      "outputs": [
        {
          "output_type": "stream",
          "text": [
            "Reading package lists... Done\n",
            "Building dependency tree       \n",
            "Reading state information... Done\n",
            "The following additional packages will be installed:\n",
            "  libopenblas-base\n",
            "The following NEW packages will be installed:\n",
            "  libopenblas-base libopenblas-dev\n",
            "0 upgraded, 2 newly installed, 0 to remove and 0 not upgraded.\n",
            "Need to get 7,824 kB of archives.\n",
            "After this operation, 94.8 MB of additional disk space will be used.\n",
            "Get:1 http://archive.ubuntu.com/ubuntu artful/universe amd64 libopenblas-base amd64 0.2.20+ds-4 [3,964 kB]\n",
            "Get:2 http://archive.ubuntu.com/ubuntu artful/universe amd64 libopenblas-dev amd64 0.2.20+ds-4 [3,860 kB]\n",
            "Fetched 7,824 kB in 1s (7,006 kB/s)\n",
            "Selecting previously unselected package libopenblas-base:amd64.\n",
            "(Reading database ... 16712 files and directories currently installed.)\n",
            "Preparing to unpack .../libopenblas-base_0.2.20+ds-4_amd64.deb ...\n",
            "Unpacking libopenblas-base:amd64 (0.2.20+ds-4) ...\n",
            "Selecting previously unselected package libopenblas-dev:amd64.\n",
            "Preparing to unpack .../libopenblas-dev_0.2.20+ds-4_amd64.deb ...\n",
            "Unpacking libopenblas-dev:amd64 (0.2.20+ds-4) ...\n",
            "Processing triggers for libc-bin (2.26-0ubuntu2.1) ...\n",
            "Setting up libopenblas-base:amd64 (0.2.20+ds-4) ...\n",
            "update-alternatives: using /usr/lib/x86_64-linux-gnu/openblas/libblas.so.3 to provide /usr/lib/x86_64-linux-gnu/libblas.so.3 (libblas.so.3-x86_64-linux-gnu) in auto mode\n",
            "update-alternatives: using /usr/lib/x86_64-linux-gnu/openblas/liblapack.so.3 to provide /usr/lib/x86_64-linux-gnu/liblapack.so.3 (liblapack.so.3-x86_64-linux-gnu) in auto mode\n",
            "Setting up libopenblas-dev:amd64 (0.2.20+ds-4) ...\n",
            "update-alternatives: using /usr/lib/x86_64-linux-gnu/openblas/libblas.so to provide /usr/lib/x86_64-linux-gnu/libblas.so (libblas.so-x86_64-linux-gnu) in auto mode\n",
            "update-alternatives: using /usr/lib/x86_64-linux-gnu/openblas/liblapack.so to provide /usr/lib/x86_64-linux-gnu/liblapack.so (liblapack.so-x86_64-linux-gnu) in auto mode\n",
            "Processing triggers for libc-bin (2.26-0ubuntu2.1) ...\n",
            "/bin/sh: 1: conda: not found\n",
            "/bin/sh: 1: source: not found\n",
            "Collecting pathlib\n",
            "  Downloading pathlib-1.0.1.tar.gz (49kB)\n",
            "\u001b[K    100% |████████████████████████████████| 51kB 1.8MB/s \n",
            "\u001b[?25hBuilding wheels for collected packages: pathlib\n",
            "  Running setup.py bdist_wheel for pathlib ... \u001b[?25l-\b \bdone\n",
            "\u001b[?25h  Stored in directory: /content/.cache/pip/wheels/2a/23/a5/d8803db5d631e9f391fe6defe982a238bf5483062eeb34e841\n",
            "Successfully built pathlib\n",
            "Installing collected packages: pathlib\n",
            "Successfully installed pathlib-1.0.1\n",
            "Requirement already satisfied: numpy in /usr/local/lib/python2.7/dist-packages\n",
            "Collecting plac\n",
            "  Downloading plac-0.9.6-py2.py3-none-any.whl\n",
            "Installing collected packages: plac\n",
            "Successfully installed plac-0.9.6\n",
            "Requirement already satisfied: requests in /usr/local/lib/python2.7/dist-packages\n",
            "Requirement already satisfied: idna<2.7,>=2.5 in /usr/local/lib/python2.7/dist-packages (from requests)\n",
            "Requirement already satisfied: urllib3<1.23,>=1.21.1 in /usr/local/lib/python2.7/dist-packages (from requests)\n",
            "Requirement already satisfied: certifi>=2017.4.17 in /usr/local/lib/python2.7/dist-packages (from requests)\n",
            "Requirement already satisfied: chardet<3.1.0,>=3.0.2 in /usr/local/lib/python2.7/dist-packages (from requests)\n",
            "Collecting msgpack-python\n",
            "  Downloading msgpack-python-0.5.6.tar.gz (138kB)\n",
            "\u001b[K    100% |████████████████████████████████| 143kB 2.4MB/s \n",
            "\u001b[?25hBuilding wheels for collected packages: msgpack-python\n",
            "  Running setup.py bdist_wheel for msgpack-python ... \u001b[?25l-\b \b\\\b \b|\b \b/\b \b-\b \b\\\b \bdone\n",
            "\u001b[?25h  Stored in directory: /content/.cache/pip/wheels/b8/61/ee/5dd2c6dcd39238fda7981f1ec0f1476c7b678d6e6dc63eeec5\n",
            "Successfully built msgpack-python\n",
            "Installing collected packages: msgpack-python\n",
            "Successfully installed msgpack-python-0.5.6\n"
          ],
          "name": "stdout"
        },
        {
          "output_type": "stream",
          "text": [
            "Collecting lightnet\n",
            "  Downloading lightnet-0.0.13.tar.gz (365kB)\n",
            "\u001b[K    100% |████████████████████████████████| 368kB 2.0MB/s \n",
            "\u001b[?25hRequirement already satisfied: msgpack-python in /usr/local/lib/python2.7/dist-packages (from lightnet)\n",
            "Requirement already satisfied: numpy in /usr/local/lib/python2.7/dist-packages (from lightnet)\n",
            "Requirement already satisfied: pathlib in /usr/local/lib/python2.7/dist-packages (from lightnet)\n",
            "Requirement already satisfied: plac in /usr/local/lib/python2.7/dist-packages (from lightnet)\n",
            "Requirement already satisfied: requests in /usr/local/lib/python2.7/dist-packages (from lightnet)\n",
            "Collecting tqdm (from lightnet)\n",
            "  Downloading tqdm-4.20.0-py2.py3-none-any.whl (41kB)\n",
            "\u001b[K    100% |████████████████████████████████| 51kB 6.1MB/s \n",
            "\u001b[?25hRequirement already satisfied: idna<2.7,>=2.5 in /usr/local/lib/python2.7/dist-packages (from requests->lightnet)\n",
            "Requirement already satisfied: urllib3<1.23,>=1.21.1 in /usr/local/lib/python2.7/dist-packages (from requests->lightnet)\n",
            "Requirement already satisfied: certifi>=2017.4.17 in /usr/local/lib/python2.7/dist-packages (from requests->lightnet)\n",
            "Requirement already satisfied: chardet<3.1.0,>=3.0.2 in /usr/local/lib/python2.7/dist-packages (from requests->lightnet)\n",
            "Building wheels for collected packages: lightnet\n",
            "  Running setup.py bdist_wheel for lightnet ... \u001b[?25l-\b \b\\\b \b|\b \b/\b \b-\b \b\\\b \b|\b \b/\b \b-\b \b\\\b \b|\b \b/\b \b-\b \b\\\b \b|\b \b/\b \b-\b \b\\\b \b|\b \b/\b \b-\b \b\\\b \b|\b \b/\b \b-\b \b\\\b \b|\b \b/\b \b-\b \b\\\b \b|\b \b/\b \b-\b \b\\\b \b|\b \b/\b \b-\b \b\\\b \bdone\n",
            "\u001b[?25h  Stored in directory: /content/.cache/pip/wheels/db/68/ba/eb06d1292f9f16ec137792ae23582bf2bfc68f48531fae4e24\n",
            "Successfully built lightnet\n",
            "Installing collected packages: tqdm, lightnet\n",
            "Successfully installed lightnet-0.0.13 tqdm-4.20.0\n"
          ],
          "name": "stdout"
        }
      ]
    },
    {
      "metadata": {
        "id": "BWd7e5ox7OfW",
        "colab_type": "code",
        "colab": {
          "autoexec": {
            "startup": false,
            "wait_interval": 0
          }
        }
      },
      "cell_type": "code",
      "source": [
        "from google.colab import auth\n",
        "auth.authenticate_user()"
      ],
      "execution_count": 0,
      "outputs": []
    },
    {
      "metadata": {
        "id": "4LdcbMIC7XlQ",
        "colab_type": "code",
        "colab": {
          "autoexec": {
            "startup": false,
            "wait_interval": 0
          }
        }
      },
      "cell_type": "code",
      "source": [
        "from googleapiclient.discovery import build\n",
        "drive_service = build('drive', 'v3')"
      ],
      "execution_count": 0,
      "outputs": []
    },
    {
      "metadata": {
        "id": "zJKbodyR7Zih",
        "colab_type": "code",
        "colab": {
          "autoexec": {
            "startup": false,
            "wait_interval": 0
          }
        }
      },
      "cell_type": "code",
      "source": [
        "from pydrive.auth import GoogleAuth\n",
        "from pydrive.drive import GoogleDrive\n",
        "from google.colab import auth\n",
        "from oauth2client.client import GoogleCredentials\n",
        "\n",
        "def getFile(file_name, target_id):\n",
        "\n",
        "  # 1. Authenticate and create the PyDrive client.\n",
        "  auth.authenticate_user()\n",
        "  gauth = GoogleAuth()\n",
        "  gauth.credentials = GoogleCredentials.get_application_default()\n",
        "  drive = GoogleDrive(gauth)\n",
        "\n",
        "  #2. Get the file\n",
        "  downloaded = drive.CreateFile({'id':target_id}) # replace the id with id of file you want to access\n",
        "  downloaded.GetContentFile(file_name)  \n",
        "  print 'done downloading '+ file_name"
      ],
      "execution_count": 0,
      "outputs": []
    },
    {
      "metadata": {
        "id": "lp2vY86udLKM",
        "colab_type": "code",
        "colab": {
          "autoexec": {
            "startup": false,
            "wait_interval": 0
          }
        }
      },
      "cell_type": "code",
      "source": [
        "def uploadFileToDrive(nameOfFile):\n",
        "      auth.authenticate_user()\n",
        "      gauth = GoogleAuth()\n",
        "      gauth.credentials = GoogleCredentials.get_application_default()\n",
        "      drive = GoogleDrive(gauth)\n",
        "      file = drive.CreateFile()\n",
        "      file.SetContentFile(nameOfFile)\n",
        "      file.Upload()"
      ],
      "execution_count": 0,
      "outputs": []
    },
    {
      "metadata": {
        "id": "leA_xEwO7cQF",
        "colab_type": "code",
        "colab": {
          "autoexec": {
            "startup": false,
            "wait_interval": 0
          },
          "base_uri": "https://localhost:8080/",
          "height": 84
        },
        "outputId": "5920c20d-599d-45fb-b71a-08621ab05597",
        "executionInfo": {
          "status": "ok",
          "timestamp": 1523102377356,
          "user_tz": -330,
          "elapsed": 9314,
          "user": {
            "displayName": "Anish Mahishi",
            "photoUrl": "https://lh3.googleusercontent.com/a/default-user=s128",
            "userId": "113634491023552308422"
          }
        }
      },
      "cell_type": "code",
      "source": [
        "# TODO for test video\n",
        "files_X = ['test_vid_1.avi', 'test_vid_2.avi']\n",
        "files_Y = ['labels_1.csv', 'labels_2.csv']\n",
        "files_X_key = ['1LwZBim4W_aAS52ADH_JNkMMwMlwvboKq', '1zAGCSpkjY5dQL86cCHjsw1OSnOo26J3Q']\n",
        "files_Y_key = ['15YNRctoaFQCELUibW13sDgb-UDqwJZBm','1kMXEDc_Fb8WbiVy9el2Lm2zIKhX2sFU2']\n",
        "\n",
        "for i in range(0, len(files_X)):\n",
        "  getFile(files_X[i], files_X_key[i])\n",
        "  getFile(files_Y[i], files_Y_key[i])"
      ],
      "execution_count": 6,
      "outputs": [
        {
          "output_type": "stream",
          "text": [
            "done downloading test_vid_1.avi\n",
            "done downloading labels_1.csv\n",
            "done downloading test_vid_2.avi\n",
            "done downloading labels_2.csv\n"
          ],
          "name": "stdout"
        }
      ]
    },
    {
      "metadata": {
        "id": "ERIjoA6ujriV",
        "colab_type": "code",
        "colab": {
          "autoexec": {
            "startup": false,
            "wait_interval": 0
          },
          "base_uri": "https://localhost:8080/",
          "height": 34
        },
        "outputId": "be71d656-40b4-4501-e164-90e069a22335",
        "executionInfo": {
          "status": "ok",
          "timestamp": 1523102379740,
          "user_tz": -330,
          "elapsed": 2361,
          "user": {
            "displayName": "Anish Mahishi",
            "photoUrl": "https://lh3.googleusercontent.com/a/default-user=s128",
            "userId": "113634491023552308422"
          }
        }
      },
      "cell_type": "code",
      "source": [
        "model_file = ['my_model.h5', 'my_model-noisefree.h5', 'my_model-noisefreeInception.h5']\n",
        "model_file_key = ['1RyCOwl57SgIj9sZKhIQdhda0M4YAAGZV','1eptLBIJyNEWOpmYBebTZMX8iNR07HMLB', '1ZYPEqasvrMIpDSGUYmYQjWOS8OQYf9v0']\n",
        "getFile(model_file[2], model_file_key[2])"
      ],
      "execution_count": 7,
      "outputs": [
        {
          "output_type": "stream",
          "text": [
            "done downloading my_model-noisefreeInception.h5\n"
          ],
          "name": "stdout"
        }
      ]
    },
    {
      "metadata": {
        "id": "I-OkNuDqfDOR",
        "colab_type": "code",
        "colab": {
          "autoexec": {
            "startup": false,
            "wait_interval": 0
          }
        }
      },
      "cell_type": "code",
      "source": [
        "y_vals = {\n",
        "    'SG':0,\n",
        "    'FR':1,\n",
        "    'AK':2,\n",
        "    'SP':3,\n",
        "    'SK':4,\n",
        "    'SM':5,\n",
        "    'jk':6\n",
        "}"
      ],
      "execution_count": 0,
      "outputs": []
    },
    {
      "metadata": {
        "id": "0FSrgWBxitwk",
        "colab_type": "code",
        "colab": {
          "autoexec": {
            "startup": false,
            "wait_interval": 0
          }
        }
      },
      "cell_type": "code",
      "source": [
        "import numpy as np\n",
        "import csv\n",
        "y_list = list()\n",
        "with open(files_Y[1]) as f:\n",
        "  reader = csv.reader(f)\n",
        "  for row in reader:\n",
        "    s = ''\n",
        "    for ab in row:\n",
        "      s = s + ab\n",
        "    y_list.append(y_vals[s])\n",
        "\n",
        "y_list = np.array(y_list)"
      ],
      "execution_count": 0,
      "outputs": []
    },
    {
      "metadata": {
        "id": "3SpTSOs57nD8",
        "colab_type": "code",
        "colab": {
          "autoexec": {
            "startup": false,
            "wait_interval": 0
          }
        }
      },
      "cell_type": "code",
      "source": [
        "import cv2\n",
        "import numpy as np\n",
        "import PIL.Image\n",
        "import matplotlib.pyplot as plt\n",
        "from cStringIO import StringIO\n",
        "import IPython.display\n",
        "from tempfile import TemporaryFile\n",
        "def showarray(a, fmt='png'):\n",
        "    a = np.uint8(a)\n",
        "    f = StringIO()\n",
        "    PIL.Image.fromarray(a).save(f, fmt)\n",
        "    IPython.display.display(IPython.display.Image(data=f.getvalue()))"
      ],
      "execution_count": 0,
      "outputs": []
    },
    {
      "metadata": {
        "id": "2U-frhGL8Ske",
        "colab_type": "code",
        "colab": {
          "autoexec": {
            "startup": false,
            "wait_interval": 0
          },
          "base_uri": "https://localhost:8080/",
          "height": 34
        },
        "outputId": "e11269ea-742a-411a-c61c-ef58882f9961",
        "executionInfo": {
          "status": "ok",
          "timestamp": 1523102416712,
          "user_tz": -330,
          "elapsed": 33478,
          "user": {
            "displayName": "Anish Mahishi",
            "photoUrl": "https://lh3.googleusercontent.com/a/default-user=s128",
            "userId": "113634491023552308422"
          }
        }
      },
      "cell_type": "code",
      "source": [
        "!python -m lightnet download yolo"
      ],
      "execution_count": 11,
      "outputs": [
        {
          "output_type": "stream",
          "text": [
            "199kK [00:30, 6.59kK/s]                                                         \n"
          ],
          "name": "stdout"
        }
      ]
    },
    {
      "metadata": {
        "id": "9UIkehfP8ZzB",
        "colab_type": "code",
        "colab": {
          "autoexec": {
            "startup": false,
            "wait_interval": 0
          }
        }
      },
      "cell_type": "code",
      "source": [
        "import lightnet\n",
        "from lightnet import Image\n",
        "\n",
        "model = lightnet.load('yolo')\n"
      ],
      "execution_count": 0,
      "outputs": []
    },
    {
      "metadata": {
        "id": "Gq7Rt8Gr8c91",
        "colab_type": "code",
        "colab": {
          "autoexec": {
            "startup": false,
            "wait_interval": 0
          }
        }
      },
      "cell_type": "code",
      "source": [
        "def detectPerson(img):\n",
        "\n",
        "  boxes = model(img)\n",
        "#   print (boxes)\n",
        "  return boxes"
      ],
      "execution_count": 0,
      "outputs": []
    },
    {
      "metadata": {
        "id": "6hOHZdTh8imr",
        "colab_type": "code",
        "colab": {
          "autoexec": {
            "startup": false,
            "wait_interval": 0
          }
        }
      },
      "cell_type": "code",
      "source": [
        "def cropImages(boxes, img):\n",
        "  imageList = list()\n",
        "  for box in boxes:\n",
        "    \n",
        "    if box[0] == 0:\n",
        "      \n",
        "      center_x = box[3][0]\n",
        "      center_y = box[3][1]\n",
        "      width = box[3][2]\n",
        "      height = box[3][3]\n",
        "\n",
        "      x = max(int(center_x - width/2), 0)\n",
        "      y = max(int(center_y - height/2),0)\n",
        "      width = int(width)\n",
        "      height = int(height)\n",
        "      # Crop!!\n",
        "      crop_img = img[y:y+height, x:x+width]\n",
        "#       showarray(crop_img)\n",
        "      try:\n",
        "        crop_img = cv2.resize(crop_img, (150, 120))\n",
        "      except cv2.error as e:\n",
        "        print x,y,width, height\n",
        "        print 'could not crop'\n",
        "        break\n",
        "      \n",
        "      imageList.append(crop_img)\n",
        "      \n",
        "\n",
        "    \n",
        "  return imageList"
      ],
      "execution_count": 0,
      "outputs": []
    },
    {
      "metadata": {
        "id": "k24G9b8r83_w",
        "colab_type": "code",
        "colab": {
          "autoexec": {
            "startup": false,
            "wait_interval": 0
          }
        }
      },
      "cell_type": "code",
      "source": [
        "image_shape = (300, 250)\n",
        "def test(video_path, labels):\n",
        "    vidcap = cv2.VideoCapture(video_path)\n",
        "    correct = 0\n",
        "    count = 0\n",
        "    k = 0\n",
        "    success = True\n",
        "    imLis = list()\n",
        "    # print vidcap\n",
        "    y_labls = list()\n",
        "    while success:\n",
        "        \n",
        "        success, image = vidcap.read()\n",
        "        count += 1\n",
        "        if count%20 == 0:\n",
        "#           break\n",
        "          print correct, count, k\n",
        "#         img = cv2.resize(image, image_shape)\n",
        "        img = image\n",
        "        cv2.imwrite('frame1.jpg', img)\n",
        "        im = lightnet.Image.from_bytes(open('frame1.jpg', 'rb').read())\n",
        "        \n",
        "        boxes = detectPerson(im)\n",
        "        \n",
        "        if len(boxes) == 0:\n",
        "          if labels[count-1] == 6:\n",
        "            correct = correct + 1\n",
        "        continue\n",
        "#         imList = np.array(imList, dtype=np.float32)\n",
        "        imList = np.array(imList, dtype=np.float32)/255.0\n",
        "#         print imList\n",
        "        \n",
        "        y = model_net.predict(imList)\n",
        "        \n",
        "        preds = np.argmax(y, axis=1)\n",
        "#         print y, preds, labels[count-1]\n",
        "#         print y\n",
        "        flag = 0\n",
        "        for pred in preds:\n",
        "          if pred == labels[count-1]:\n",
        "            correct += 1\n",
        "            flag = 1\n",
        "            break\n",
        "#         if flag == 0:\n",
        "#           showarray(imList[0]*255.0)\n",
        "          \n",
        "            \n",
        "    acc = float(correct)/count\n",
        "    print 'acc : ', acc\n"
      ],
      "execution_count": 0,
      "outputs": []
    },
    {
      "metadata": {
        "id": "Op1kcxujjykh",
        "colab_type": "code",
        "colab": {
          "autoexec": {
            "startup": false,
            "wait_interval": 0
          },
          "base_uri": "https://localhost:8080/",
          "height": 71
        },
        "outputId": "f135f195-850a-430c-9d33-7365010b45fe",
        "executionInfo": {
          "status": "ok",
          "timestamp": 1523102450932,
          "user_tz": -330,
          "elapsed": 23279,
          "user": {
            "displayName": "Anish Mahishi",
            "photoUrl": "https://lh3.googleusercontent.com/a/default-user=s128",
            "userId": "113634491023552308422"
          }
        }
      },
      "cell_type": "code",
      "source": [
        "from keras.models import load_model\n",
        "\n",
        "model_net = load_model('my_model-noisefreeInception.h5')"
      ],
      "execution_count": 16,
      "outputs": [
        {
          "output_type": "stream",
          "text": [
            "Using TensorFlow backend.\n"
          ],
          "name": "stderr"
        },
        {
          "output_type": "stream",
          "text": [
            "WARNING:tensorflow:Variable *= will be deprecated. Use variable.assign_mul if you want assignment to the variable value or 'x = x * y' if you want a new python Tensor object.\n"
          ],
          "name": "stdout"
        }
      ]
    },
    {
      "metadata": {
        "id": "qrQgBnRJcL9J",
        "colab_type": "code",
        "colab": {
          "autoexec": {
            "startup": false,
            "wait_interval": 0
          }
        }
      },
      "cell_type": "code",
      "source": [
        "def seperateFrames(video_path, label, labels):\n",
        "    vidcap = cv2.VideoCapture(video_path)\n",
        "    correct = 0\n",
        "    count = 0\n",
        "    k = 0\n",
        "    success = True\n",
        "    imList = list()\n",
        "    # print vidcap\n",
        "    while success:\n",
        "        \n",
        "        success, image = vidcap.read()\n",
        "        if labels[count] == label:\n",
        "          imList.append(image)\n",
        "          \n",
        "          \n",
        "    return imList\n",
        "  "
      ],
      "execution_count": 0,
      "outputs": []
    },
    {
      "metadata": {
        "id": "yJ4g_DbqciqR",
        "colab_type": "code",
        "colab": {
          "autoexec": {
            "startup": false,
            "wait_interval": 0
          }
        }
      },
      "cell_type": "code",
      "source": [
        "# people = ['Sadhguru', 'Raman', 'AtulKhatri', 'SaurabhPant', 'Shailendra', 'Sandeep', 'Noise']\n",
        "# for i in range(0, 7):\n",
        "#   print 'starting ',people[i]\n",
        "#   imLis = seperateFrames('test_vid_2.avi', i, y_list)\n",
        "#   imLis = np.array(imLis)\n",
        "#   save_string = people[i]+'test.npy'\n",
        "#   np.save(save_string, imLis)\n",
        "#   uploadFileToDrive(save_string)"
      ],
      "execution_count": 0,
      "outputs": []
    },
    {
      "metadata": {
        "id": "Nbdy_MX38mkQ",
        "colab_type": "code",
        "colab": {
          "autoexec": {
            "startup": false,
            "wait_interval": 0
          }
        }
      },
      "cell_type": "code",
      "source": [
        "image_shape = (300, 250)\n",
        "def test2(video_path, labels):\n",
        "    vidcap = cv2.VideoCapture(video_path)\n",
        "    correct = 0\n",
        "    count = 0\n",
        "    k = 0\n",
        "    success = True\n",
        "    imLis = list()\n",
        "    # print vidcap\n",
        "    y_labls = list()\n",
        "    while success:\n",
        "        \n",
        "        success, image = vidcap.read()\n",
        "        count += 1\n",
        "        if count % 200 == 0:\n",
        "          break\n",
        "        img = image\n",
        "        cv2.imwrite('frame1.jpg', img)\n",
        "        im = lightnet.Image.from_bytes(open('frame1.jpg', 'rb').read())\n",
        "        \n",
        "        boxes = detectPerson(im)\n",
        "        \n",
        "        if len(boxes) > 1:\n",
        "          imLis.append(cv2.resize(img, (150, 120)))\n",
        "          y_labls.append(labels[count-1])\n",
        "          continue\n",
        "        else:\n",
        "          if len(boxes) == 1:\n",
        "            imageList = cropImages(boxes, img)\n",
        "            if len(imageList) == 0:\n",
        "              imLis.append(cv2.resize(img, (150, 120)))\n",
        "            else:\n",
        "              imLis = imLis + imageList\n",
        "            y_labls.append(labels[count-1])\n",
        "          else:\n",
        "            imLis.append(cv2.resize(img, (150, 120)))\n",
        "            y_labls.append(labels[count-1])\n",
        "          continue\n",
        "            \n",
        "    acc = float(correct)/count\n",
        "    print 'acc : ', acc\n",
        "    return imLis, y_labls"
      ],
      "execution_count": 0,
      "outputs": []
    },
    {
      "metadata": {
        "id": "2qJTSrq0e-wk",
        "colab_type": "code",
        "colab": {
          "autoexec": {
            "startup": false,
            "wait_interval": 0
          },
          "base_uri": "https://localhost:8080/",
          "height": 34
        },
        "outputId": "54bb412d-cc6a-4e96-c2b0-b52a60712c20",
        "executionInfo": {
          "status": "ok",
          "timestamp": 1523103077526,
          "user_tz": -330,
          "elapsed": 433311,
          "user": {
            "displayName": "Anish Mahishi",
            "photoUrl": "https://lh3.googleusercontent.com/a/default-user=s128",
            "userId": "113634491023552308422"
          }
        }
      },
      "cell_type": "code",
      "source": [
        "imLis, y_labls = test2('test_vid_1.avi', y_list)"
      ],
      "execution_count": 22,
      "outputs": [
        {
          "output_type": "stream",
          "text": [
            "acc :  0.0\n"
          ],
          "name": "stdout"
        }
      ]
    },
    {
      "metadata": {
        "id": "2dV2kHDxBst8",
        "colab_type": "code",
        "colab": {
          "autoexec": {
            "startup": false,
            "wait_interval": 0
          },
          "base_uri": "https://localhost:8080/",
          "height": 34
        },
        "outputId": "04817ee3-dd1c-435c-f89a-3b4ef05bfd4a",
        "executionInfo": {
          "status": "ok",
          "timestamp": 1523103236873,
          "user_tz": -330,
          "elapsed": 995,
          "user": {
            "displayName": "Anish Mahishi",
            "photoUrl": "https://lh3.googleusercontent.com/a/default-user=s128",
            "userId": "113634491023552308422"
          }
        }
      },
      "cell_type": "code",
      "source": [
        "print len(imLis), len(y_labls)"
      ],
      "execution_count": 24,
      "outputs": [
        {
          "output_type": "stream",
          "text": [
            "199 199\n"
          ],
          "name": "stdout"
        }
      ]
    },
    {
      "metadata": {
        "id": "Hnd9WCUDva3k",
        "colab_type": "code",
        "colab": {
          "autoexec": {
            "startup": false,
            "wait_interval": 0
          }
        }
      },
      "cell_type": "code",
      "source": [
        "# imLis = np.array(imLis, dtype=np.float32)/255.0\n",
        "np.save('labls1.npy', y_labls)\n",
        "np.save('imLis1.npy', imLis)\n",
        "auth.authenticate_user()\n",
        "gauth = GoogleAuth()\n",
        "gauth.credentials = GoogleCredentials.get_application_default()\n",
        "drive = GoogleDrive(gauth)\n",
        "file = drive.CreateFile()\n",
        "file.SetContentFile('labls1'+'.npy')\n",
        "file.Upload()\n",
        "file2 = drive.CreateFile()\n",
        "file2.SetContentFile('imLis1'+'.npy')\n",
        "file2.Upload()"
      ],
      "execution_count": 0,
      "outputs": []
    }
  ]
}