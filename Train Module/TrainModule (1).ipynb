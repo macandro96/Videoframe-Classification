{
  "nbformat": 4,
  "nbformat_minor": 0,
  "metadata": {
    "colab": {
      "name": "TrainModule.ipynb",
      "version": "0.3.2",
      "views": {},
      "default_view": {},
      "provenance": [],
      "collapsed_sections": []
    },
    "kernelspec": {
      "name": "python2",
      "display_name": "Python 2"
    },
    "accelerator": "GPU"
  },
  "cells": [
    {
      "metadata": {
        "id": "KbXnjtIuaTJt",
        "colab_type": "text"
      },
      "cell_type": "markdown",
      "source": [
        "We've uploaded the training files at different sampling rates on our google drive. Now, we download the files to our virtual machine."
      ]
    },
    {
      "metadata": {
        "id": "-8pGXwMJZ7Hk",
        "colab_type": "code",
        "colab": {
          "autoexec": {
            "startup": false,
            "wait_interval": 0
          }
        }
      },
      "cell_type": "code",
      "source": [
        "!pip install -U -q PyDrive\n"
      ],
      "execution_count": 0,
      "outputs": []
    },
    {
      "metadata": {
        "id": "3qnvz7cDa5R6",
        "colab_type": "code",
        "colab": {
          "autoexec": {
            "startup": false,
            "wait_interval": 0
          }
        }
      },
      "cell_type": "code",
      "source": [
        "from google.colab import auth\n",
        "auth.authenticate_user()"
      ],
      "execution_count": 0,
      "outputs": []
    },
    {
      "metadata": {
        "id": "4hYnPJdDa7U5",
        "colab_type": "code",
        "colab": {
          "autoexec": {
            "startup": false,
            "wait_interval": 0
          }
        }
      },
      "cell_type": "code",
      "source": [
        "from googleapiclient.discovery import build\n",
        "drive_service = build('drive', 'v3')"
      ],
      "execution_count": 0,
      "outputs": []
    },
    {
      "metadata": {
        "id": "V9-F-Y9wbf-i",
        "colab_type": "text"
      },
      "cell_type": "markdown",
      "source": [
        "Code credits for this cell [StackOverflow](https://stackoverflow.com/questions/48735600/file-download-from-google-drive-to-colaboratory)"
      ]
    },
    {
      "metadata": {
        "id": "rtlpNYlxbBVg",
        "colab_type": "code",
        "colab": {
          "autoexec": {
            "startup": false,
            "wait_interval": 0
          }
        }
      },
      "cell_type": "code",
      "source": [
        "from pydrive.auth import GoogleAuth\n",
        "from pydrive.drive import GoogleDrive\n",
        "from google.colab import auth\n",
        "from oauth2client.client import GoogleCredentials\n",
        "\n",
        "def getFile(file_name, target_id):\n",
        "\n",
        "  # 1. Authenticate and create the PyDrive client.\n",
        "  auth.authenticate_user()\n",
        "  gauth = GoogleAuth()\n",
        "  gauth.credentials = GoogleCredentials.get_application_default()\n",
        "  drive = GoogleDrive(gauth)\n",
        "\n",
        "  #2. Get the file\n",
        "  downloaded = drive.CreateFile({'id':target_id}) # replace the id with id of file you want to access\n",
        "  downloaded.GetContentFile(file_name)  \n",
        "  print 'done downloading '+ file_name"
      ],
      "execution_count": 0,
      "outputs": []
    },
    {
      "metadata": {
        "id": "bHPV6Nzib2bx",
        "colab_type": "text"
      },
      "cell_type": "markdown",
      "source": [
        "We've chosen the sampling rates to [10, 5, 3] seconds per frame"
      ]
    },
    {
      "metadata": {
        "id": "CGxxAbA3_y1R",
        "colab_type": "code",
        "colab": {
          "autoexec": {
            "startup": false,
            "wait_interval": 0
          }
        }
      },
      "cell_type": "code",
      "source": [
        "def uploadFileToDrive(nameOfFile):\n",
        "      auth.authenticate_user()\n",
        "      gauth = GoogleAuth()\n",
        "      gauth.credentials = GoogleCredentials.get_application_default()\n",
        "      drive = GoogleDrive(gauth)\n",
        "      file = drive.CreateFile()\n",
        "      file.SetContentFile(nameOfFile)\n",
        "      file.Upload()"
      ],
      "execution_count": 0,
      "outputs": []
    },
    {
      "metadata": {
        "id": "ojrO6Sjhbu5U",
        "colab_type": "code",
        "colab": {
          "autoexec": {
            "startup": false,
            "wait_interval": 0
          },
          "base_uri": "https://localhost:8080/",
          "height": 252
        },
        "outputId": "c508c7ac-5815-4e30-86a6-82f6a58146a1",
        "executionInfo": {
          "status": "ok",
          "timestamp": 1523105418157,
          "user_tz": -330,
          "elapsed": 20404,
          "user": {
            "displayName": "Anish Mahishi",
            "photoUrl": "https://lh3.googleusercontent.com/a/default-user=s128",
            "userId": "113634491023552308422"
          }
        }
      },
      "cell_type": "code",
      "source": [
        "files_X = ['X.npy','X_150.npy', 'X_test90.npy']\n",
        "files_Y = ['Y.npy', 'Y_150.npy', 'Y_test90.npy']\n",
        "files_X_key = ['12o7z-WQApfnwzY5p0FPD_6l-3bJAO__K','1TyZhuiEOELzKCZHDQ0V-WNwjA5mTRso_','1nxL8wPsGFdjMnX9_pYknehGVEtHbG9yR']\n",
        "files_Y_key = ['1qQRT06MuaHA5rtfnmybq9MeirxC2wRpl','13yuJXoGs5odbYZ-OKmMUZHF31X1h4k0r','1VspWplkWEVHai8S_6jeIp8CclxJDWXxa']\n",
        "\n",
        "\n",
        "people = ['Sadhguru', 'Raman', 'AtulKhatri', 'SaurabhPant', 'Shailendra', 'Sandeep', 'Noise']\n",
        "keys_X = ['1j8qf6_pqFTKsyLzTh144drOvVijkhwBF','1iOGQHvQ_XJPnzz9vFaLSUsKsgrLhh9xr','19ndwiu0FOzXgRlSaJGcOFtRu2u2D-Cs7','1YU7WXzbUvf1hHRsvNz-2Jinb_xQJRLR8','1js-QY_OMcc8LF6P3AoH6TEncp6qEemkb','1CJIMi4_m7uE_b2NWwasjWl03wKY61ZNO','1oU7lboE9MuY1URTxuEhdw16x85AUWM5u']\n",
        "keys_Y = ['1-mWGmUvzKfngrAHrcLMHQEJHTk1UUKhr','1X70yidJ1aMNRsKZc1ZSZxcsvDCjaxs7A','1HnlOqnuPci263aKrqt0YvoKU_5gSiz30','184rGF_U27J44P_5kVY9eFOFS-tK-ojTz','1j0f5eFLyKZPl-or87WuNxTcSbHIoWck2','1b3bTcq9NTuAxfeWdbeiTOe7LCmwCQ6a0','1A2GsAJgnWkQPW7FPWetyc6ehO2uhjk8o']\n",
        "\n",
        "keys_X2 = ['1N3PdeyPnM_5W2lrngZkVmCDdHeyXP9hp','191V6p3Oi7zL1cQcKi4uiDg3RsyyPtipn','1qoBoCBhTLixmXgqwFSiQ1rIY2z2frSMx','1V0nh_UWlG7a6GQZLbo8HnY7he58S3g23','1qtSfneVraU8K2ixfj6lVbmFWQwTPS_N-','17DEL_QRWjHJpLrrmKyVcnt31hQ7BBQ3M','1YQ9yInWFIVCMe4VXWTEipVXPw_ZEIOgY']\n",
        "keys_Y2 = ['12IqNSDGnezNwD9i2TUIskteaYGO5r8k0','1h4tBtag9E2Lru_KG7FLewCt0i9VXolbG','1Kjr7-Rv1hNnpiKTrWYT3lz5JZPFdkF7d','13Qww7x-v_lP6MyfPO6BAtXkA7JvYVf81','1jAFcjXg-SU1aIY16Okjozq7WP406HKkd','1cVPQgVXdCPkIAL28fzlDH0tRiFgIot7t','1d5HiGYvE_P-wRPkjKmi7v1qxFth-SGnm']\n",
        "\n",
        "for i in range(0, len(people)):\n",
        "  getFile(people[i]+'Xplain.npy', keys_X2[i])\n",
        "  getFile(people[i]+'Yplain.npy', keys_Y2[i])"
      ],
      "execution_count": 24,
      "outputs": [
        {
          "output_type": "stream",
          "text": [
            "done downloading SadhguruXplain.npy\n",
            "done downloading SadhguruYplain.npy\n",
            "done downloading RamanXplain.npy\n",
            "done downloading RamanYplain.npy\n",
            "done downloading AtulKhatriXplain.npy\n",
            "done downloading AtulKhatriYplain.npy\n",
            "done downloading SaurabhPantXplain.npy\n",
            "done downloading SaurabhPantYplain.npy\n",
            "done downloading ShailendraXplain.npy\n",
            "done downloading ShailendraYplain.npy\n",
            "done downloading SandeepXplain.npy\n",
            "done downloading SandeepYplain.npy\n",
            "done downloading NoiseXplain.npy\n",
            "done downloading NoiseYplain.npy\n"
          ],
          "name": "stdout"
        }
      ]
    },
    {
      "metadata": {
        "id": "TfvqOE6Q7Ipz",
        "colab_type": "code",
        "colab": {
          "autoexec": {
            "startup": false,
            "wait_interval": 0
          },
          "base_uri": "https://localhost:8080/",
          "height": 51
        },
        "outputId": "be0bb64e-8250-446f-8b4d-b195dfc0c21b",
        "executionInfo": {
          "status": "ok",
          "timestamp": 1523103428034,
          "user_tz": -330,
          "elapsed": 1989,
          "user": {
            "displayName": "Anish Mahishi",
            "photoUrl": "https://lh3.googleusercontent.com/a/default-user=s128",
            "userId": "113634491023552308422"
          }
        }
      },
      "cell_type": "code",
      "source": [
        "val_x = ['imLis.npy']\n",
        "val_y = ['labls.npy']\n",
        "key_x = ['1T6GOZ1-ipHhfsdxSKlKOcAlsMzbFczDc']\n",
        "key_y = ['1UqUMl90pYqzy7vj_MSzV9TRmLJ8roDTu']\n",
        "getFile(val_x[0], key_x[0])\n",
        "getFile(val_y[0], key_y[0])"
      ],
      "execution_count": 10,
      "outputs": [
        {
          "output_type": "stream",
          "text": [
            "done downloading imLis.npy\n",
            "done downloading labls.npy\n"
          ],
          "name": "stdout"
        }
      ]
    },
    {
      "metadata": {
        "id": "699CGbQJ7xYv",
        "colab_type": "code",
        "colab": {
          "autoexec": {
            "startup": false,
            "wait_interval": 0
          },
          "base_uri": "https://localhost:8080/",
          "height": 34
        },
        "outputId": "41db9eea-072e-4f50-e43b-dacae1499b48",
        "executionInfo": {
          "status": "ok",
          "timestamp": 1523103451665,
          "user_tz": -330,
          "elapsed": 1048,
          "user": {
            "displayName": "Anish Mahishi",
            "photoUrl": "https://lh3.googleusercontent.com/a/default-user=s128",
            "userId": "113634491023552308422"
          }
        }
      },
      "cell_type": "code",
      "source": [
        "import numpy as np\n",
        "X_val = np.load('imLis.npy')\n",
        "Y_val = np.load('labls.npy')\n",
        "print len(X_val), len(Y_val)"
      ],
      "execution_count": 11,
      "outputs": [
        {
          "output_type": "stream",
          "text": [
            "199 199\n"
          ],
          "name": "stdout"
        }
      ]
    },
    {
      "metadata": {
        "id": "3qCnXy6keeld",
        "colab_type": "text"
      },
      "cell_type": "markdown",
      "source": [
        "To show images on iPython Notebook"
      ]
    },
    {
      "metadata": {
        "id": "mC1T6Frjedw2",
        "colab_type": "code",
        "colab": {
          "autoexec": {
            "startup": false,
            "wait_interval": 0
          }
        }
      },
      "cell_type": "code",
      "source": [
        "import cv2\n",
        "import numpy as np\n",
        "import PIL.Image\n",
        "import matplotlib.pyplot as plt\n",
        "from cStringIO import StringIO\n",
        "import IPython.display\n",
        "from tempfile import TemporaryFile\n",
        "def showarray(a, fmt='png'):\n",
        "    a = np.uint8(a)\n",
        "    f = StringIO()\n",
        "    PIL.Image.fromarray(a).save(f, fmt)\n",
        "    IPython.display.display(IPython.display.Image(data=f.getvalue()))"
      ],
      "execution_count": 0,
      "outputs": []
    },
    {
      "metadata": {
        "id": "dsmUmwcWdaIK",
        "colab_type": "code",
        "colab": {
          "autoexec": {
            "startup": false,
            "wait_interval": 0
          }
        }
      },
      "cell_type": "code",
      "source": [
        "from keras.models import Sequential\n",
        "from keras.layers.convolutional import Conv2D\n",
        "from keras.layers.convolutional import MaxPooling2D\n",
        "from keras.layers.core import Activation\n",
        "from keras.layers.core import Flatten\n",
        "from keras.layers.core import Dense\n",
        "from keras import backend as K\n",
        "from keras.preprocessing.image import ImageDataGenerator\n",
        "from keras.optimizers import Adam\n",
        "from sklearn.utils import shuffle\n",
        "import numpy as np\n",
        "from sklearn.model_selection import train_test_split\n",
        "from keras.utils import to_categorical\n",
        "import cv2\n",
        "from tempfile import TemporaryFile"
      ],
      "execution_count": 0,
      "outputs": []
    },
    {
      "metadata": {
        "id": "XFZmp5tFKp88",
        "colab_type": "code",
        "colab": {
          "autoexec": {
            "startup": false,
            "wait_interval": 0
          }
        }
      },
      "cell_type": "code",
      "source": [
        "train_X = np.load(people[0]+'Xplain.npy')\n",
        "train_Y = np.load(people[0]+'Yplain.npy')\n",
        "for i in range(1, len(people)-1):\n",
        "  train_X = np.concatenate((train_X, np.load(people[i]+'X.npy')), axis=0)\n",
        "  train_Y = np.concatenate((train_Y, np.load(people[i]+'Y.npy')), axis=0)\n",
        "  \n",
        "noise_X = np.load(people[6]+'Xplain.npy')\n",
        "noise_Y = np.load(people[6]+'Yplain.npy')\n",
        "noise_X = noise_X.astype(np.float32)/255.0\n",
        "noise_Y = noise_Y.astype(np.float32)/255.0\n",
        "train_X = np.concatenate((train_X, noise_X), axis=0)\n",
        "del noise_X\n",
        "train_Y = np.concatenate((train_Y, noise_Y), axis=0)\n",
        "del noise_Y"
      ],
      "execution_count": 0,
      "outputs": []
    },
    {
      "metadata": {
        "id": "PDKfYA8R8REA",
        "colab_type": "code",
        "colab": {
          "autoexec": {
            "startup": false,
            "wait_interval": 0
          }
        }
      },
      "cell_type": "code",
      "source": [
        "from sklearn.utils import shuffle\n",
        "train_X, train_Y = shuffle(train_X, train_Y, random_state=0)"
      ],
      "execution_count": 0,
      "outputs": []
    },
    {
      "metadata": {
        "id": "G_IOyMwLdpCf",
        "colab_type": "text"
      },
      "cell_type": "markdown",
      "source": [
        "Code credits for building the LeNet [PyImage Search](https://www.pyimagesearch.com/2017/12/11/image-classification-with-keras-and-deep-learning/)"
      ]
    },
    {
      "metadata": {
        "id": "EIT6S-LwcJS4",
        "colab_type": "code",
        "colab": {
          "autoexec": {
            "startup": false,
            "wait_interval": 0
          }
        }
      },
      "cell_type": "code",
      "source": [
        "def LeNetModel(height=120, width=150, depth=3, nClasses=7):\n",
        "\t# initialize the model\n",
        "\tmodel = Sequential()\n",
        "\tinputShape = (height, width, depth)\n",
        "\n",
        "\t# if we are using \"channels first\", update the input shape\n",
        "\tif K.image_data_format() == \"channels_first\":\n",
        "\t\tinputShape = (depth, height, width)\n",
        "\n",
        "\t\t# first set of CONV => RELU => POOL layers\n",
        "\tmodel.add(Conv2D(20, (5, 5), padding=\"same\",\n",
        "\t\tinput_shape=inputShape))\n",
        "\tmodel.add(Activation(\"relu\"))\n",
        "\tmodel.add(MaxPooling2D(pool_size=(2, 2), strides=(2, 2)))\n",
        "    \t\t# first set of CONV => RELU => POOL layers\n",
        "\tmodel.add(Conv2D(20, (5, 5), padding=\"same\",\n",
        "\t\tinput_shape=inputShape))\n",
        "\tmodel.add(Activation(\"relu\"))\n",
        "\tmodel.add(MaxPooling2D(pool_size=(2, 2), strides=(2, 2)))\n",
        "\t\t# first (and only) set of FC => RELU layers\n",
        "\tmodel.add(Flatten())\n",
        "\tmodel.add(Dense(500))\n",
        "\tmodel.add(Activation(\"relu\"))\n",
        "\n",
        "\t# softmax classifier\n",
        "\tmodel.add(Dense(nClasses))\n",
        "\tmodel.add(Activation(\"softmax\"))\n",
        "\n",
        "\t# return the constructed network architecture\n",
        "\treturn model"
      ],
      "execution_count": 0,
      "outputs": []
    },
    {
      "metadata": {
        "id": "htHDbfc5d36B",
        "colab_type": "text"
      },
      "cell_type": "markdown",
      "source": [
        "We've used Keras Pre-trained VGG16 network on ImageNet. Source can be found [here](https://keras.io/applications/#vgg16)"
      ]
    },
    {
      "metadata": {
        "id": "LdJVRVJfdzR5",
        "colab_type": "code",
        "colab": {
          "autoexec": {
            "startup": false,
            "wait_interval": 0
          }
        }
      },
      "cell_type": "code",
      "source": [
        "from keras.applications.inception_v3 import InceptionV3\n",
        "from keras.applications.resnet50 import ResNet50\n",
        "from keras.applications.vgg16 import VGG16\n",
        "from keras.preprocessing import image\n",
        "from keras.models import Model\n",
        "from keras.layers import Dense, GlobalAveragePooling2D\n",
        "from keras import backend as K\n",
        "from sklearn.model_selection import train_test_split\n",
        "from keras.utils import to_categorical\n",
        "from keras.preprocessing.image import ImageDataGenerator\n",
        "import numpy as np\n",
        "from keras.optimizers import Adam"
      ],
      "execution_count": 0,
      "outputs": []
    },
    {
      "metadata": {
        "id": "_AN5oA1Zeyts",
        "colab_type": "code",
        "colab": {
          "autoexec": {
            "startup": false,
            "wait_interval": 0
          }
        }
      },
      "cell_type": "code",
      "source": [
        "def VGG16Net():\n",
        "  # create the base pre-trained model\n",
        "  base_model = VGG16(weights='imagenet', include_top=False)\n",
        "#   base_model = InceptionV3(weights='imagenet', include_top=False)\n",
        "  \n",
        "  x = base_model.output\n",
        "  x = GlobalAveragePooling2D()(x)\n",
        "  # let's add a fully-connected layer\n",
        "  x = Dense(1024, activation='relu')(x)\n",
        "  # and a logistic layer -- let's say we have 7 classes\n",
        "  predictions = Dense(7, activation='softmax')(x)\n",
        "\n",
        "  \n",
        "\n",
        "  for layer in base_model.layers:\n",
        "      layer.trainable = False\n",
        "  model_net = Model(inputs=base_model.input, outputs=predictions)\n",
        "      \n",
        "  return model_net"
      ],
      "execution_count": 0,
      "outputs": []
    },
    {
      "metadata": {
        "id": "8YaP5sbQgv0q",
        "colab_type": "code",
        "colab": {
          "autoexec": {
            "startup": false,
            "wait_interval": 0
          }
        }
      },
      "cell_type": "code",
      "source": [
        "EPOCHS = 10\n",
        "INIT_LR = 1e-3\n",
        "BS = 32"
      ],
      "execution_count": 0,
      "outputs": []
    },
    {
      "metadata": {
        "id": "GPDFlQzCgni7",
        "colab_type": "code",
        "colab": {
          "autoexec": {
            "startup": false,
            "wait_interval": 0
          }
        }
      },
      "cell_type": "code",
      "source": [
        "model_net = VGG16Net()\n",
        "# model_net = LeNetModel()\n",
        "opt = Adam(lr=INIT_LR, decay=INIT_LR / EPOCHS)\n",
        "model_net.compile(loss=\"categorical_crossentropy\", optimizer=opt,\n",
        "\tmetrics=[\"accuracy\"])"
      ],
      "execution_count": 0,
      "outputs": []
    },
    {
      "metadata": {
        "id": "6D8ERYdkg9aq",
        "colab_type": "code",
        "colab": {
          "autoexec": {
            "startup": false,
            "wait_interval": 0
          }
        }
      },
      "cell_type": "code",
      "source": [
        "def train(X, Y, model_net):\n",
        "  (trainX, testX, trainY, testY) = train_test_split(X,Y, test_size=0.0, random_state=42)\n",
        "\n",
        "  trainY = to_categorical(trainY, num_classes=7)\n",
        "  testX = X_val\n",
        "  testY = Y_val\n",
        "  testY = to_categorical(testY, num_classes=7)\n",
        "\n",
        "  aug = ImageDataGenerator(rotation_range=0, width_shift_range=0.1,\n",
        "    height_shift_range=0.1, shear_range=0.2, zoom_range=0.2,\n",
        "    horizontal_flip=True, fill_mode=\"nearest\")\n",
        "\n",
        "\n",
        "  H = model_net.fit_generator(aug.flow(trainX, trainY, batch_size=25),\n",
        "    validation_data=(testX, testY), steps_per_epoch=len(trainX) // BS,\n",
        "    epochs=EPOCHS, verbose=1)\n",
        "  model_net.save('my_model-VGGPlain.h5')"
      ],
      "execution_count": 0,
      "outputs": []
    },
    {
      "metadata": {
        "id": "IOYAf_IkQbX3",
        "colab_type": "code",
        "colab": {
          "autoexec": {
            "startup": false,
            "wait_interval": 0
          },
          "resources": {
            "http://localhost:8080/nbextensions/google.colab/files.js": {
              "data": "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",
              "ok": true,
              "headers": [
                [
                  "content-type",
                  "application/javascript"
                ]
              ],
              "status": 200,
              "status_text": ""
            }
          },
          "base_uri": "https://localhost:8080/",
          "height": 73
        },
        "outputId": "dae0e1ec-c0cd-4fa6-c068-3979f4b1b0c4",
        "executionInfo": {
          "status": "ok",
          "timestamp": 1523107185051,
          "user_tz": -330,
          "elapsed": 31735,
          "user": {
            "displayName": "Anish Mahishi",
            "photoUrl": "https://lh3.googleusercontent.com/a/default-user=s128",
            "userId": "113634491023552308422"
          }
        }
      },
      "cell_type": "code",
      "source": [
        "from google.colab import files\n",
        "uploaded = files.upload()"
      ],
      "execution_count": 43,
      "outputs": [
        {
          "output_type": "display_data",
          "data": {
            "text/plain": [
              "<IPython.core.display.HTML object>"
            ],
            "text/html": [
              "\n",
              "     <input type=\"file\" id=\"files-42be74b7-dfa5-428c-8bc6-263fd80ac9a1\" name=\"files[]\" multiple disabled />\n",
              "     <output id=\"result-42be74b7-dfa5-428c-8bc6-263fd80ac9a1\">\n",
              "      Upload widget is only available when the cell has been executed in the\n",
              "      current browser session. Please rerun this cell to enable.\n",
              "      </output>\n",
              "      <script src=\"/nbextensions/google.colab/files.js\"></script> "
            ]
          },
          "metadata": {
            "tags": []
          }
        },
        {
          "output_type": "stream",
          "text": [
            "Saving black_background.jpg to black_background.jpg\n"
          ],
          "name": "stdout"
        }
      ]
    },
    {
      "metadata": {
        "id": "PyGwr8DnhLEg",
        "colab_type": "code",
        "colab": {
          "autoexec": {
            "startup": false,
            "wait_interval": 0
          }
        }
      },
      "cell_type": "code",
      "source": [
        "from keras.models import load_model\n",
        "from sklearn.utils import shuffle\n",
        "\n",
        "# train(train_X, train_Y, model_net)\n",
        "\n",
        "img = cv2.imread('black_background.jpg')\n",
        "img = np.array([img], dtype=np.float32)/255.0\n",
        "y = model_net.predict(img)"
      ],
      "execution_count": 0,
      "outputs": []
    },
    {
      "metadata": {
        "id": "GetplCRjRA5r",
        "colab_type": "code",
        "colab": {
          "autoexec": {
            "startup": false,
            "wait_interval": 0
          },
          "base_uri": "https://localhost:8080/",
          "height": 51
        },
        "outputId": "47458d85-14b4-4d9d-b126-e43e8b6aa8e3",
        "executionInfo": {
          "status": "ok",
          "timestamp": 1523107241880,
          "user_tz": -330,
          "elapsed": 977,
          "user": {
            "displayName": "Anish Mahishi",
            "photoUrl": "https://lh3.googleusercontent.com/a/default-user=s128",
            "userId": "113634491023552308422"
          }
        }
      },
      "cell_type": "code",
      "source": [
        "print y"
      ],
      "execution_count": 45,
      "outputs": [
        {
          "output_type": "stream",
          "text": [
            "[[6.3315791e-01 2.0947852e-03 2.9402886e-02 1.3225101e-01 1.0230844e-02\n",
            "  1.9279565e-01 6.6876390e-05]]\n"
          ],
          "name": "stdout"
        }
      ]
    },
    {
      "metadata": {
        "id": "MlGn9-C1BBxK",
        "colab_type": "code",
        "colab": {
          "autoexec": {
            "startup": false,
            "wait_interval": 0
          }
        }
      },
      "cell_type": "code",
      "source": [
        "uploadFileToDrive('my_model-VGGPlain.h5')"
      ],
      "execution_count": 0,
      "outputs": []
    },
    {
      "metadata": {
        "id": "MjljzuBj119g",
        "colab_type": "text"
      },
      "cell_type": "markdown",
      "source": [
        "We test on our custom made test data"
      ]
    },
    {
      "metadata": {
        "id": "H9N9J-zoiD9O",
        "colab_type": "code",
        "colab": {
          "autoexec": {
            "startup": false,
            "wait_interval": 0
          },
          "base_uri": "https://localhost:8080/",
          "height": 252
        },
        "outputId": "3115aaaa-5fc6-45e2-f045-7d81d48dbb06",
        "executionInfo": {
          "status": "ok",
          "timestamp": 1523085652408,
          "user_tz": -330,
          "elapsed": 13050,
          "user": {
            "displayName": "Anish Mahishi",
            "photoUrl": "https://lh3.googleusercontent.com/a/default-user=s128",
            "userId": "113634491023552308422"
          }
        }
      },
      "cell_type": "code",
      "source": [
        "files_X_test = ['Xtestt90Sadhguru.npy', 'Xtestt90AtulKhatri.npy', 'Xtestt90Raman.npy', 'Xtestt90SaurabhPant.npy','Xtestt90Shailendra.npy','Xtestt90Sandeep.npy','Xtestt90Noise.npy']\n",
        "files_X_test_key = ['1rVJ1IljmpFlMZcJnOn9YcA6SGYPd54Jz','14ibngnH9JrALnTgip2VGBND-6YLsqQVc','111ySr7TZIApFknYngUh4htTdbb-Jhxw_','1GIr9ic0WRCuYDEmEqjK7ZAJQGsrDqh80','1vkhPfRZjc-R5C7yK-iChiNJZzCFQSIF5','1jVKsnJ04u2f0wJo64CVG4aJMFoctdxaP','1usINbBpwtpxGzJw4-ib1DtiV80NIaR4-']\n",
        "files_Y_test = ['Ytestt 90Sadhguru.npy', 'Ytestt 90AtulKhatri.npy', 'Ytestt 90Raman.npy', 'Ytestt 90SaurabhPant.npy','Ytestt 90Shailendra.npy','Ytestt 90Sandeep.npy','Ytestt 90Noise.npy']\n",
        "files_Y_test_key = ['1sawbCmQAF2z4L6c7y3ixFGOC_ow2jpqx','1bJklSJ17izG7A6RK1oBrKrff4axX6a4L','1bvJTn2KsWEJpx6waHDqLZiZK8L53YYhg','1HHRpSY_8ACRFbpZJtCFqJiXr1s0cgZH6','1NZ1qWL2QqHR3pirWangWyXuPw3np_4BV','12uyk_qqAXSln32q-AQ6n7HUp4wgKJygm','1nhbxgiyXDhaMKthTxVYf9suEs6x92Bl0']\n",
        "\n",
        "for i in range(0, len(files_X_test)):\n",
        "  getFile(files_X_test[i], files_X_test_key[i])\n",
        "  getFile(files_Y_test[i], files_Y_test_key[i])"
      ],
      "execution_count": 36,
      "outputs": [
        {
          "output_type": "stream",
          "text": [
            "done downloading Xtestt90Sadhguru.npy\n",
            "done downloading Ytestt 90Sadhguru.npy\n",
            "done downloading Xtestt90AtulKhatri.npy\n",
            "done downloading Ytestt 90AtulKhatri.npy\n",
            "done downloading Xtestt90Raman.npy\n",
            "done downloading Ytestt 90Raman.npy\n",
            "done downloading Xtestt90SaurabhPant.npy\n",
            "done downloading Ytestt 90SaurabhPant.npy\n",
            "done downloading Xtestt90Shailendra.npy\n",
            "done downloading Ytestt 90Shailendra.npy\n",
            "done downloading Xtestt90Sandeep.npy\n",
            "done downloading Ytestt 90Sandeep.npy\n",
            "done downloading Xtestt90Noise.npy\n",
            "done downloading Ytestt 90Noise.npy\n"
          ],
          "name": "stdout"
        }
      ]
    },
    {
      "metadata": {
        "id": "VHfJvFXB2Fd9",
        "colab_type": "code",
        "colab": {
          "autoexec": {
            "startup": false,
            "wait_interval": 0
          },
          "base_uri": "https://localhost:8080/",
          "height": 137
        },
        "outputId": "5ace56af-2078-4c59-e10f-90b991c537c9",
        "executionInfo": {
          "status": "ok",
          "timestamp": 1523085870666,
          "user_tz": -330,
          "elapsed": 1051,
          "user": {
            "displayName": "Anish Mahishi",
            "photoUrl": "https://lh3.googleusercontent.com/a/default-user=s128",
            "userId": "113634491023552308422"
          }
        }
      },
      "cell_type": "code",
      "source": [
        "from keras.utils import to_categorical\n",
        "X_test = np.load('Xtestt90AtulKhatri.npy')\n",
        "Y_test = np.load('Ytestt 90AtulKhatri.npy')\n",
        "Y_test = to_categorical(Y_test, num_classes=7)\n",
        "showarray(X_test[8,:,:])\n",
        "X_test = X_test.astype(np.float32)"
      ],
      "execution_count": 45,
      "outputs": [
        {
          "output_type": "display_data",
          "data": {
            "image/png": "[encoded data removed]",
            "text/plain": [
              "<IPython.core.display.Image object>"
            ]
          },
          "metadata": {
            "tags": []
          }
        }
      ]
    },
    {
      "metadata": {
        "id": "6jLXiVTAFsSy",
        "colab_type": "code",
        "colab": {
          "autoexec": {
            "startup": false,
            "wait_interval": 0
          },
          "base_uri": "https://localhost:8080/",
          "height": 51
        },
        "outputId": "1634b94f-9c88-4bcf-ed81-59e350572541",
        "executionInfo": {
          "status": "ok",
          "timestamp": 1523085872818,
          "user_tz": -330,
          "elapsed": 1301,
          "user": {
            "displayName": "Anish Mahishi",
            "photoUrl": "https://lh3.googleusercontent.com/a/default-user=s128",
            "userId": "113634491023552308422"
          }
        }
      },
      "cell_type": "code",
      "source": [
        "model_net.evaluate(X_test, Y_test)"
      ],
      "execution_count": 46,
      "outputs": [
        {
          "output_type": "stream",
          "text": [
            "106/106 [==============================] - 0s 4ms/step\n"
          ],
          "name": "stdout"
        },
        {
          "output_type": "execute_result",
          "data": {
            "text/plain": [
              "[15.966076976848099, 0.009433962264150943]"
            ]
          },
          "metadata": {
            "tags": []
          },
          "execution_count": 46
        }
      ]
    }
  ]
}