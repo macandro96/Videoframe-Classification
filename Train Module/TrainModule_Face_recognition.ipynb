{
  "nbformat": 4,
  "nbformat_minor": 0,
  "metadata": {
    "colab": {
      "name": "TrainModule_Face_recognition.ipynb",
      "version": "0.3.2",
      "views": {},
      "default_view": {},
      "provenance": [],
      "collapsed_sections": []
    },
    "kernelspec": {
      "name": "python2",
      "display_name": "Python 2"
    },
    "accelerator": "GPU"
  },
  "cells": [
    {
      "metadata": {
        "id": "KbXnjtIuaTJt",
        "colab_type": "text"
      },
      "cell_type": "markdown",
      "source": [
        "We've uploaded the training files at different sampling rates on our google drive. Now, we download the files to our virtual machine."
      ]
    },
    {
      "metadata": {
        "id": "-8pGXwMJZ7Hk",
        "colab_type": "code",
        "colab": {
          "autoexec": {
            "startup": false,
            "wait_interval": 0
          }
        }
      },
      "cell_type": "code",
      "source": [
        "!pip install -U -q PyDrive\n"
      ],
      "execution_count": 0,
      "outputs": []
    },
    {
      "metadata": {
        "id": "3qnvz7cDa5R6",
        "colab_type": "code",
        "colab": {
          "autoexec": {
            "startup": false,
            "wait_interval": 0
          }
        }
      },
      "cell_type": "code",
      "source": [
        "from google.colab import auth\n",
        "auth.authenticate_user()"
      ],
      "execution_count": 0,
      "outputs": []
    },
    {
      "metadata": {
        "id": "4hYnPJdDa7U5",
        "colab_type": "code",
        "colab": {
          "autoexec": {
            "startup": false,
            "wait_interval": 0
          }
        }
      },
      "cell_type": "code",
      "source": [
        "from googleapiclient.discovery import build\n",
        "drive_service = build('drive', 'v3')"
      ],
      "execution_count": 0,
      "outputs": []
    },
    {
      "metadata": {
        "id": "V9-F-Y9wbf-i",
        "colab_type": "text"
      },
      "cell_type": "markdown",
      "source": [
        "Code credits for this cell [StackOverflow](https://stackoverflow.com/questions/48735600/file-download-from-google-drive-to-colaboratory)"
      ]
    },
    {
      "metadata": {
        "id": "rtlpNYlxbBVg",
        "colab_type": "code",
        "colab": {
          "autoexec": {
            "startup": false,
            "wait_interval": 0
          }
        }
      },
      "cell_type": "code",
      "source": [
        "from pydrive.auth import GoogleAuth\n",
        "from pydrive.drive import GoogleDrive\n",
        "from google.colab import auth\n",
        "from oauth2client.client import GoogleCredentials\n",
        "\n",
        "def getFile(file_name, target_id):\n",
        "\n",
        "  # 1. Authenticate and create the PyDrive client.\n",
        "  auth.authenticate_user()\n",
        "  gauth = GoogleAuth()\n",
        "  gauth.credentials = GoogleCredentials.get_application_default()\n",
        "  drive = GoogleDrive(gauth)\n",
        "\n",
        "  #2. Get the file\n",
        "  downloaded = drive.CreateFile({'id':target_id}) # replace the id with id of file you want to access\n",
        "  downloaded.GetContentFile(file_name)  \n",
        "  print 'done downloading '+ file_name"
      ],
      "execution_count": 0,
      "outputs": []
    },
    {
      "metadata": {
        "id": "bHPV6Nzib2bx",
        "colab_type": "text"
      },
      "cell_type": "markdown",
      "source": [
        "We've chosen the sampling rates to [10, 5, 3] seconds per frame"
      ]
    },
    {
      "metadata": {
        "id": "CGxxAbA3_y1R",
        "colab_type": "code",
        "colab": {
          "autoexec": {
            "startup": false,
            "wait_interval": 0
          }
        }
      },
      "cell_type": "code",
      "source": [
        "def uploadFileToDrive(nameOfFile):\n",
        "      auth.authenticate_user()\n",
        "      gauth = GoogleAuth()\n",
        "      gauth.credentials = GoogleCredentials.get_application_default()\n",
        "      drive = GoogleDrive(gauth)\n",
        "      file = drive.CreateFile()\n",
        "      file.SetContentFile(nameOfFile)\n",
        "      file.Upload()"
      ],
      "execution_count": 0,
      "outputs": []
    },
    {
      "metadata": {
        "id": "ojrO6Sjhbu5U",
        "colab_type": "code",
        "colab": {
          "autoexec": {
            "startup": false,
            "wait_interval": 0
          },
          "base_uri": "https://localhost:8080/",
          "height": 252
        },
        "outputId": "480a7267-4398-49e3-a54d-19b285b95aad",
        "executionInfo": {
          "status": "ok",
          "timestamp": 1523082654248,
          "user_tz": -330,
          "elapsed": 13728,
          "user": {
            "displayName": "Anish Mahishi",
            "photoUrl": "https://lh3.googleusercontent.com/a/default-user=s128",
            "userId": "118102727754294209559"
          }
        }
      },
      "cell_type": "code",
      "source": [
        "files_X = ['X.npy','X_150.npy', 'X_test90.npy']\n",
        "files_Y = ['Y.npy', 'Y_150.npy', 'Y_test90.npy']\n",
        "files_X_key = ['12o7z-WQApfnwzY5p0FPD_6l-3bJAO__K','1TyZhuiEOELzKCZHDQ0V-WNwjA5mTRso_','1nxL8wPsGFdjMnX9_pYknehGVEtHbG9yR']\n",
        "files_Y_key = ['1qQRT06MuaHA5rtfnmybq9MeirxC2wRpl','13yuJXoGs5odbYZ-OKmMUZHF31X1h4k0r','1VspWplkWEVHai8S_6jeIp8CclxJDWXxa']\n",
        "\n",
        "\n",
        "people = ['Sadhguru', 'Raman', 'AtulKhatri', 'SaurabhPant', 'Shailendra', 'Sandeep', 'Noise']\n",
        "keys_X = ['1KCKWjSMnJ4uAYn5A2xYEi3iPW9SNxeFB','15XRHeyHNg9dOdPZh5WJvqkV3qvkxRg71','1Jj9_Nh0Uo_Ki5hc0CSeyQqSpkWwYI8m_','1e21LhRMy6-7K-RvwP58WXIq2HRN6J9rq','12gsD7iHWcZHyGrp4gQ7He8HOQqvZd2-U','1mqWU_VhHiqfEs_4D_xdJdKv-E7GLbih4','1A1iHUmikf0D07NTK9WDN0C1B6oyAMcpt']\n",
        "keys_Y = ['1By_68a3c_NaBXfKPrZVwsuXkmxsBpBm_','1hTXtGyV-jPwJSEW8OWZyhEloARtc7Q1I','1-ZwgvJQiIax2ZPEld38aM8fIj-AopMrQ','1eZ9dHNSUItFFEBMFyV2rrpGTnFDxgimy','1evLXedEH6UoJE8zPFaw7Wpx0TWdJIdW8','1eVzAbYZsi_PY86MPSAK00UOgVjy3HE3X','16v8TlsGICtPrcORQORnX6GsGffuZhEs2']\n",
        "for i in range(0, len(people)):\n",
        "  getFile(people[i]+'X.npy', keys_X[i])\n",
        "  getFile(people[i]+'Y.npy', keys_Y[i])"
      ],
      "execution_count": 6,
      "outputs": [
        {
          "output_type": "stream",
          "text": [
            "done downloading SadhguruX.npy\n",
            "done downloading SadhguruY.npy\n",
            "done downloading RamanX.npy\n",
            "done downloading RamanY.npy\n",
            "done downloading AtulKhatriX.npy\n",
            "done downloading AtulKhatriY.npy\n",
            "done downloading SaurabhPantX.npy\n",
            "done downloading SaurabhPantY.npy\n",
            "done downloading ShailendraX.npy\n",
            "done downloading ShailendraY.npy\n",
            "done downloading SandeepX.npy\n",
            "done downloading SandeepY.npy\n",
            "done downloading NoiseX.npy\n",
            "done downloading NoiseY.npy\n"
          ],
          "name": "stdout"
        }
      ]
    },
    {
      "metadata": {
        "id": "3qCnXy6keeld",
        "colab_type": "text"
      },
      "cell_type": "markdown",
      "source": [
        "To show images on iPython Notebook"
      ]
    },
    {
      "metadata": {
        "id": "mC1T6Frjedw2",
        "colab_type": "code",
        "colab": {
          "autoexec": {
            "startup": false,
            "wait_interval": 0
          }
        }
      },
      "cell_type": "code",
      "source": [
        "import cv2\n",
        "import numpy as np\n",
        "import PIL.Image\n",
        "import matplotlib.pyplot as plt\n",
        "from cStringIO import StringIO\n",
        "import IPython.display\n",
        "from tempfile import TemporaryFile\n",
        "def showarray(a, fmt='png'):\n",
        "    a = np.uint8(a)\n",
        "    f = StringIO()\n",
        "    PIL.Image.fromarray(a).save(f, fmt)\n",
        "    IPython.display.display(IPython.display.Image(data=f.getvalue()))"
      ],
      "execution_count": 0,
      "outputs": []
    },
    {
      "metadata": {
        "id": "dsmUmwcWdaIK",
        "colab_type": "code",
        "colab": {
          "autoexec": {
            "startup": false,
            "wait_interval": 0
          },
          "base_uri": "https://localhost:8080/",
          "height": 34
        },
        "outputId": "0522b35c-7b55-4944-b960-aecce5099e29",
        "executionInfo": {
          "status": "ok",
          "timestamp": 1523082658210,
          "user_tz": -330,
          "elapsed": 2904,
          "user": {
            "displayName": "Anish Mahishi",
            "photoUrl": "https://lh3.googleusercontent.com/a/default-user=s128",
            "userId": "118102727754294209559"
          }
        }
      },
      "cell_type": "code",
      "source": [
        "from keras.models import Sequential\n",
        "from keras.layers.convolutional import Conv2D\n",
        "from keras.layers.convolutional import MaxPooling2D\n",
        "from keras.layers.core import Activation\n",
        "from keras.layers.core import Flatten\n",
        "from keras.layers.core import Dense\n",
        "from keras import backend as K\n",
        "from keras.preprocessing.image import ImageDataGenerator\n",
        "from keras.optimizers import Adam\n",
        "from sklearn.utils import shuffle\n",
        "import numpy as np\n",
        "from sklearn.model_selection import train_test_split\n",
        "from keras.utils import to_categorical\n",
        "import cv2\n",
        "from tempfile import TemporaryFile"
      ],
      "execution_count": 8,
      "outputs": [
        {
          "output_type": "stream",
          "text": [
            "Using TensorFlow backend.\n"
          ],
          "name": "stderr"
        }
      ]
    },
    {
      "metadata": {
        "id": "XFZmp5tFKp88",
        "colab_type": "code",
        "colab": {
          "autoexec": {
            "startup": false,
            "wait_interval": 0
          }
        }
      },
      "cell_type": "code",
      "source": [
        "train_X = np.load(people[0]+'X.npy')\n",
        "train_Y = np.load(people[0]+'Y.npy')\n",
        "for i in range(1, len(people)-1):\n",
        "  train_X = np.concatenate((train_X, np.load(people[i]+'X.npy')), axis=0)\n",
        "  train_Y = np.concatenate((train_Y, np.load(people[i]+'Y.npy')), axis=0)\n",
        "  \n",
        "noise_X = np.load(people[6]+'X.npy')\n",
        "noise_Y = np.load(people[6]+'Y.npy')\n",
        "noise_X = noise_X.astype(np.float32)/255.0\n",
        "noise_Y = noise_Y.astype(np.float32)/255.0\n",
        "train_X = np.concatenate((train_X, noise_X), axis=0)\n",
        "del noise_X\n",
        "train_Y = np.concatenate((train_Y, noise_Y), axis=0)\n",
        "del noise_Y"
      ],
      "execution_count": 0,
      "outputs": []
    },
    {
      "metadata": {
        "id": "PDKfYA8R8REA",
        "colab_type": "code",
        "colab": {
          "autoexec": {
            "startup": false,
            "wait_interval": 0
          }
        }
      },
      "cell_type": "code",
      "source": [
        "from sklearn.utils import shuffle\n",
        "train_X, train_Y = shuffle(train_X, train_Y, random_state=0)"
      ],
      "execution_count": 0,
      "outputs": []
    },
    {
      "metadata": {
        "id": "La8Q73MVRmXB",
        "colab_type": "code",
        "colab": {
          "autoexec": {
            "startup": false,
            "wait_interval": 0
          },
          "base_uri": "https://localhost:8080/",
          "height": 137
        },
        "outputId": "50ab3558-4282-45bb-bcf2-01b0746fe6f5",
        "executionInfo": {
          "status": "ok",
          "timestamp": 1523082663027,
          "user_tz": -330,
          "elapsed": 1212,
          "user": {
            "displayName": "Anish Mahishi",
            "photoUrl": "https://lh3.googleusercontent.com/a/default-user=s128",
            "userId": "118102727754294209559"
          }
        }
      },
      "cell_type": "code",
      "source": [
        "showarray(train_X[488]*255.0)"
      ],
      "execution_count": 11,
      "outputs": [
        {
          "output_type": "display_data",
          "data": {
            "image/png": "[encoded data removed]",
            "text/plain": [
              "<IPython.core.display.Image object>"
            ]
          },
          "metadata": {
            "tags": []
          }
        }
      ]
    },
    {
      "metadata": {
        "id": "G_IOyMwLdpCf",
        "colab_type": "text"
      },
      "cell_type": "markdown",
      "source": [
        "Code credits for building the LeNet [PyImage Search](https://www.pyimagesearch.com/2017/12/11/image-classification-with-keras-and-deep-learning/)"
      ]
    },
    {
      "metadata": {
        "id": "EIT6S-LwcJS4",
        "colab_type": "code",
        "colab": {
          "autoexec": {
            "startup": false,
            "wait_interval": 0
          }
        }
      },
      "cell_type": "code",
      "source": [
        "def LeNetModel(height=120, width=150, depth=3, nClasses=7):\n",
        "\t# initialize the model\n",
        "\tmodel = Sequential()\n",
        "\tinputShape = (height, width, depth)\n",
        "\n",
        "\t# if we are using \"channels first\", update the input shape\n",
        "\tif K.image_data_format() == \"channels_first\":\n",
        "\t\tinputShape = (depth, height, width)\n",
        "\n",
        "\t\t# first set of CONV => RELU => POOL layers\n",
        "\tmodel.add(Conv2D(20, (5, 5), padding=\"same\",\n",
        "\t\tinput_shape=inputShape))\n",
        "\tmodel.add(Activation(\"relu\"))\n",
        "\tmodel.add(MaxPooling2D(pool_size=(2, 2), strides=(2, 2)))\n",
        "    \t\t# first set of CONV => RELU => POOL layers\n",
        "\tmodel.add(Conv2D(20, (5, 5), padding=\"same\",\n",
        "\t\tinput_shape=inputShape))\n",
        "\tmodel.add(Activation(\"relu\"))\n",
        "\tmodel.add(MaxPooling2D(pool_size=(2, 2), strides=(2, 2)))\n",
        "\t\t# first (and only) set of FC => RELU layers\n",
        "\tmodel.add(Flatten())\n",
        "\tmodel.add(Dense(500))\n",
        "\tmodel.add(Activation(\"relu\"))\n",
        "\n",
        "\t# softmax classifier\n",
        "\tmodel.add(Dense(nClasses))\n",
        "\tmodel.add(Activation(\"softmax\"))\n",
        "\n",
        "\t# return the constructed network architecture\n",
        "\treturn model"
      ],
      "execution_count": 0,
      "outputs": []
    },
    {
      "metadata": {
        "id": "htHDbfc5d36B",
        "colab_type": "text"
      },
      "cell_type": "markdown",
      "source": [
        "We've used Keras Pre-trained VGG16 network on ImageNet. Source can be found [here](https://keras.io/applications/#vgg16)"
      ]
    },
    {
      "metadata": {
        "id": "LdJVRVJfdzR5",
        "colab_type": "code",
        "colab": {
          "autoexec": {
            "startup": false,
            "wait_interval": 0
          }
        }
      },
      "cell_type": "code",
      "source": [
        "from keras.applications.inception_v3 import InceptionV3\n",
        "from keras.applications.resnet50 import ResNet50\n",
        "from keras.applications.vgg16 import VGG16\n",
        "from keras.preprocessing import image\n",
        "from keras.models import Model\n",
        "from keras.layers import Dense, GlobalAveragePooling2D\n",
        "from keras import backend as K\n",
        "from sklearn.model_selection import train_test_split\n",
        "from keras.utils import to_categorical\n",
        "from keras.preprocessing.image import ImageDataGenerator\n",
        "import numpy as np\n",
        "from keras.optimizers import Adam"
      ],
      "execution_count": 0,
      "outputs": []
    },
    {
      "metadata": {
        "id": "_AN5oA1Zeyts",
        "colab_type": "code",
        "colab": {
          "autoexec": {
            "startup": false,
            "wait_interval": 0
          }
        }
      },
      "cell_type": "code",
      "source": [
        "def VGG16Net():\n",
        "  # create the base pre-trained model\n",
        "  base_model = VGG16(weights='imagenet', include_top=False)\n",
        "  \n",
        "  x = base_model.output\n",
        "  x = GlobalAveragePooling2D()(x)\n",
        "  # let's add a fully-connected layer\n",
        "  x = Dense(1024, activation='relu')(x)\n",
        "  # and a logistic layer -- let's say we have 7 classes\n",
        "  predictions = Dense(7, activation='softmax')(x)\n",
        "\n",
        "  \n",
        "\n",
        "  for layer in base_model.layers:\n",
        "      layer.trainable = False\n",
        "  model_net = Model(inputs=base_model.input, outputs=predictions)\n",
        "      \n",
        "  return model_net"
      ],
      "execution_count": 0,
      "outputs": []
    },
    {
      "metadata": {
        "id": "8YaP5sbQgv0q",
        "colab_type": "code",
        "colab": {
          "autoexec": {
            "startup": false,
            "wait_interval": 0
          }
        }
      },
      "cell_type": "code",
      "source": [
        "EPOCHS = 15\n",
        "INIT_LR = 1e-3\n",
        "BS = 32"
      ],
      "execution_count": 0,
      "outputs": []
    },
    {
      "metadata": {
        "id": "GPDFlQzCgni7",
        "colab_type": "code",
        "colab": {
          "autoexec": {
            "startup": false,
            "wait_interval": 0
          }
        }
      },
      "cell_type": "code",
      "source": [
        "model_net = VGG16Net()\n",
        "# model_net = LeNetModel()\n",
        "opt = Adam(lr=INIT_LR, decay=INIT_LR / EPOCHS)\n",
        "model_net.compile(loss=\"categorical_crossentropy\", optimizer=opt,\n",
        "\tmetrics=[\"accuracy\"])"
      ],
      "execution_count": 0,
      "outputs": []
    },
    {
      "metadata": {
        "id": "6D8ERYdkg9aq",
        "colab_type": "code",
        "colab": {
          "autoexec": {
            "startup": false,
            "wait_interval": 0
          }
        }
      },
      "cell_type": "code",
      "source": [
        "def train(X, Y, model_net):\n",
        "  (trainX, testX, trainY, testY) = train_test_split(X,Y, test_size=0.1, random_state=42)\n",
        "\n",
        "  trainY = to_categorical(trainY, num_classes=7)\n",
        "  testY = to_categorical(testY, num_classes=7)\n",
        "\n",
        "  aug = ImageDataGenerator(rotation_range=0, width_shift_range=0.1,\n",
        "    height_shift_range=0.1, shear_range=0.2, zoom_range=0.2,\n",
        "    horizontal_flip=False, fill_mode=\"nearest\")\n",
        "\n",
        "\n",
        "  H = model_net.fit_generator(aug.flow(trainX, trainY, batch_size=25),\n",
        "    validation_data=(testX, testY), steps_per_epoch=len(trainX) // BS,\n",
        "    epochs=EPOCHS, verbose=1)\n",
        "  model_net.save('my_model-noisefree.h5')"
      ],
      "execution_count": 0,
      "outputs": []
    },
    {
      "metadata": {
        "id": "PyGwr8DnhLEg",
        "colab_type": "code",
        "colab": {
          "autoexec": {
            "startup": false,
            "wait_interval": 0
          },
          "base_uri": "https://localhost:8080/",
          "height": 558
        },
        "outputId": "1af50ed3-b8e8-4ac0-a413-f1a2cc29d26f",
        "executionInfo": {
          "status": "ok",
          "timestamp": 1523082915779,
          "user_tz": -330,
          "elapsed": 245213,
          "user": {
            "displayName": "Anish Mahishi",
            "photoUrl": "https://lh3.googleusercontent.com/a/default-user=s128",
            "userId": "118102727754294209559"
          }
        }
      },
      "cell_type": "code",
      "source": [
        "from keras.models import load_model\n",
        "from sklearn.utils import shuffle\n",
        "\n",
        "train(train_X, train_Y, model_net)\n"
      ],
      "execution_count": 18,
      "outputs": [
        {
          "output_type": "stream",
          "text": [
            "WARNING:tensorflow:Variable *= will be deprecated. Use variable.assign_mul if you want assignment to the variable value or 'x = x * y' if you want a new python Tensor object.\n",
            "Epoch 1/15\n",
            "97/97 [==============================] - 19s 198ms/step - loss: 0.9510 - acc: 0.6979 - val_loss: 0.5224 - val_acc: 0.8362\n",
            "Epoch 2/15\n",
            "97/97 [==============================] - 16s 164ms/step - loss: 0.4437 - acc: 0.8581 - val_loss: 0.3790 - val_acc: 0.8678\n",
            "Epoch 3/15\n",
            "67/97 [===================>..........] - ETA: 4s - loss: 0.3143 - acc: 0.9104"
          ],
          "name": "stdout"
        },
        {
          "output_type": "stream",
          "text": [
            "97/97 [==============================] - 16s 165ms/step - loss: 0.3102 - acc: 0.9089 - val_loss: 0.3140 - val_acc: 0.8764\n",
            "Epoch 4/15\n",
            "97/97 [==============================] - 16s 164ms/step - loss: 0.2709 - acc: 0.9113 - val_loss: 0.2079 - val_acc: 0.9339\n",
            "Epoch 5/15\n",
            "97/97 [==============================] - 16s 163ms/step - loss: 0.1952 - acc: 0.9410 - val_loss: 0.1814 - val_acc: 0.9511\n",
            "Epoch 6/15\n",
            "93/97 [===========================>..] - ETA: 0s - loss: 0.1737 - acc: 0.9444"
          ],
          "name": "stdout"
        },
        {
          "output_type": "stream",
          "text": [
            "97/97 [==============================] - 16s 168ms/step - loss: 0.1760 - acc: 0.9430 - val_loss: 0.1551 - val_acc: 0.9569\n",
            "Epoch 7/15\n",
            "97/97 [==============================] - 16s 166ms/step - loss: 0.1560 - acc: 0.9522 - val_loss: 0.1286 - val_acc: 0.9655\n",
            "Epoch 8/15\n",
            "97/97 [==============================] - 16s 165ms/step - loss: 0.1363 - acc: 0.9604 - val_loss: 0.1358 - val_acc: 0.9569\n",
            "Epoch 9/15\n",
            "96/97 [============================>.] - ETA: 0s - loss: 0.1210 - acc: 0.9633"
          ],
          "name": "stdout"
        },
        {
          "output_type": "stream",
          "text": [
            "97/97 [==============================] - 16s 164ms/step - loss: 0.1201 - acc: 0.9637 - val_loss: 0.1207 - val_acc: 0.9655\n",
            "Epoch 10/15\n",
            "97/97 [==============================] - 17s 171ms/step - loss: 0.1112 - acc: 0.9699 - val_loss: 0.1403 - val_acc: 0.9511\n",
            "Epoch 11/15\n",
            "97/97 [==============================] - 16s 166ms/step - loss: 0.1219 - acc: 0.9592 - val_loss: 0.1372 - val_acc: 0.9626\n",
            "Epoch 12/15\n",
            "95/97 [============================>.] - ETA: 0s - loss: 0.0926 - acc: 0.9726"
          ],
          "name": "stdout"
        },
        {
          "output_type": "stream",
          "text": [
            "97/97 [==============================] - 16s 164ms/step - loss: 0.0918 - acc: 0.9728 - val_loss: 0.1187 - val_acc: 0.9626\n",
            "Epoch 13/15\n",
            "97/97 [==============================] - 16s 165ms/step - loss: 0.0886 - acc: 0.9699 - val_loss: 0.0909 - val_acc: 0.9713\n",
            "Epoch 14/15\n",
            "97/97 [==============================] - 16s 162ms/step - loss: 0.1488 - acc: 0.9479 - val_loss: 0.2020 - val_acc: 0.9397\n",
            "Epoch 15/15\n",
            "96/97 [============================>.] - ETA: 0s - loss: 0.0924 - acc: 0.9662"
          ],
          "name": "stdout"
        },
        {
          "output_type": "stream",
          "text": [
            "\b\b\b\b\b\b\b\b\b\b\b\b\b\b\b\b\b\b\b\b\b\b\b\b\b\b\b\b\b\b\b\b\b\b\b\b\b\b\b\b\b\b\b\b\b\b\b\b\b\b\b\b\b\b\b\b\b\b\b\b\b\b\b\b\b\b\b\b\b\b\b\b\b\b\b\b\b\r97/97 [==============================] - 16s 165ms/step - loss: 0.0930 - acc: 0.9654 - val_loss: 0.0790 - val_acc: 0.9770\n"
          ],
          "name": "stdout"
        }
      ]
    },
    {
      "metadata": {
        "id": "MlGn9-C1BBxK",
        "colab_type": "code",
        "colab": {
          "autoexec": {
            "startup": false,
            "wait_interval": 0
          }
        }
      },
      "cell_type": "code",
      "source": [
        "uploadFileToDrive('my_model-noisefree.h5')"
      ],
      "execution_count": 0,
      "outputs": []
    },
    {
      "metadata": {
        "id": "MjljzuBj119g",
        "colab_type": "text"
      },
      "cell_type": "markdown",
      "source": [
        "We test on our custom made test data"
      ]
    },
    {
      "metadata": {
        "id": "H9N9J-zoiD9O",
        "colab_type": "code",
        "colab": {
          "autoexec": {
            "startup": false,
            "wait_interval": 0
          },
          "base_uri": "https://localhost:8080/",
          "height": 252
        },
        "outputId": "d30a7d45-438c-456c-f2ee-8ad67d6ca93d",
        "executionInfo": {
          "status": "ok",
          "timestamp": 1523082933202,
          "user_tz": -330,
          "elapsed": 14288,
          "user": {
            "displayName": "Anish Mahishi",
            "photoUrl": "https://lh3.googleusercontent.com/a/default-user=s128",
            "userId": "118102727754294209559"
          }
        }
      },
      "cell_type": "code",
      "source": [
        "files_X_test = ['Xtestt90Sadhguru.npy', 'Xtestt90AtulKhatri.npy', 'Xtestt90Raman.npy', 'Xtestt90SaurabhPant.npy','Xtestt90Shailendra.npy','Xtestt90Sandeep.npy','Xtestt90Noise.npy']\n",
        "files_X_test_key = ['1rVJ1IljmpFlMZcJnOn9YcA6SGYPd54Jz','14ibngnH9JrALnTgip2VGBND-6YLsqQVc','111ySr7TZIApFknYngUh4htTdbb-Jhxw_','1GIr9ic0WRCuYDEmEqjK7ZAJQGsrDqh80','1vkhPfRZjc-R5C7yK-iChiNJZzCFQSIF5','1jVKsnJ04u2f0wJo64CVG4aJMFoctdxaP','1usINbBpwtpxGzJw4-ib1DtiV80NIaR4-']\n",
        "files_Y_test = ['Ytestt 90Sadhguru.npy', 'Ytestt 90AtulKhatri.npy', 'Ytestt 90Raman.npy', 'Ytestt 90SaurabhPant.npy','Ytestt 90Shailendra.npy','Ytestt 90Sandeep.npy','Ytestt 90Noise.npy']\n",
        "files_Y_test_key = ['1sawbCmQAF2z4L6c7y3ixFGOC_ow2jpqx','1bJklSJ17izG7A6RK1oBrKrff4axX6a4L','1bvJTn2KsWEJpx6waHDqLZiZK8L53YYhg','1HHRpSY_8ACRFbpZJtCFqJiXr1s0cgZH6','1NZ1qWL2QqHR3pirWangWyXuPw3np_4BV','12uyk_qqAXSln32q-AQ6n7HUp4wgKJygm','1nhbxgiyXDhaMKthTxVYf9suEs6x92Bl0']\n",
        "\n",
        "for i in range(0, len(files_X_test)):\n",
        "  getFile(files_X_test[i], files_X_test_key[i])\n",
        "  getFile(files_Y_test[i], files_Y_test_key[i])"
      ],
      "execution_count": 20,
      "outputs": [
        {
          "output_type": "stream",
          "text": [
            "done downloading Xtestt90Sadhguru.npy\n",
            "done downloading Ytestt 90Sadhguru.npy\n",
            "done downloading Xtestt90AtulKhatri.npy\n",
            "done downloading Ytestt 90AtulKhatri.npy\n",
            "done downloading Xtestt90Raman.npy\n",
            "done downloading Ytestt 90Raman.npy\n",
            "done downloading Xtestt90SaurabhPant.npy\n",
            "done downloading Ytestt 90SaurabhPant.npy\n",
            "done downloading Xtestt90Shailendra.npy\n",
            "done downloading Ytestt 90Shailendra.npy\n",
            "done downloading Xtestt90Sandeep.npy\n",
            "done downloading Ytestt 90Sandeep.npy\n",
            "done downloading Xtestt90Noise.npy\n",
            "done downloading Ytestt 90Noise.npy\n"
          ],
          "name": "stdout"
        }
      ]
    },
    {
      "metadata": {
        "id": "VHfJvFXB2Fd9",
        "colab_type": "code",
        "colab": {
          "autoexec": {
            "startup": false,
            "wait_interval": 0
          },
          "base_uri": "https://localhost:8080/",
          "height": 137
        },
        "outputId": "82b55864-13c7-46f3-b455-1fb5899d8017",
        "executionInfo": {
          "status": "ok",
          "timestamp": 1523082934960,
          "user_tz": -330,
          "elapsed": 1734,
          "user": {
            "displayName": "Anish Mahishi",
            "photoUrl": "https://lh3.googleusercontent.com/a/default-user=s128",
            "userId": "118102727754294209559"
          }
        }
      },
      "cell_type": "code",
      "source": [
        "from keras.utils import to_categorical\n",
        "X_test = np.load('Xtestt90Noise.npy')\n",
        "Y_test = np.load('Ytestt 90Noise.npy')\n",
        "Y_test = to_categorical(Y_test, num_classes=7)\n",
        "showarray(X_test[8,:,:])\n",
        "X_test = X_test.astype(np.float32)/255.0"
      ],
      "execution_count": 21,
      "outputs": [
        {
          "output_type": "display_data",
          "data": {
            "image/png": "[encoded data removed]",
            "text/plain": [
              "<IPython.core.display.Image object>"
            ]
          },
          "metadata": {
            "tags": []
          }
        }
      ]
    },
    {
      "metadata": {
        "id": "6jLXiVTAFsSy",
        "colab_type": "code",
        "colab": {
          "autoexec": {
            "startup": false,
            "wait_interval": 0
          },
          "base_uri": "https://localhost:8080/",
          "height": 51
        },
        "outputId": "b0049e20-aeae-4004-ff77-eb7560f94b66",
        "executionInfo": {
          "status": "ok",
          "timestamp": 1523082944510,
          "user_tz": -330,
          "elapsed": 9491,
          "user": {
            "displayName": "Anish Mahishi",
            "photoUrl": "https://lh3.googleusercontent.com/a/default-user=s128",
            "userId": "118102727754294209559"
          }
        }
      },
      "cell_type": "code",
      "source": [
        "model_net.evaluate(X_test, Y_test)"
      ],
      "execution_count": 22,
      "outputs": [
        {
          "output_type": "stream",
          "text": [
            "1719/1719 [==============================] - 9s 5ms/step\n"
          ],
          "name": "stdout"
        },
        {
          "output_type": "execute_result",
          "data": {
            "text/plain": [
              "[15.579281793630976, 0.0]"
            ]
          },
          "metadata": {
            "tags": []
          },
          "execution_count": 22
        }
      ]
    }
  ]
}